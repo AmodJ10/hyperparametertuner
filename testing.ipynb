{
 "cells": [
  {
   "cell_type": "code",
   "execution_count": 1,
   "metadata": {},
   "outputs": [],
   "source": [
    "from sklearn.datasets import load_iris\n"
   ]
  },
  {
   "cell_type": "code",
   "execution_count": 2,
   "metadata": {},
   "outputs": [],
   "source": [
    "iris = load_iris()\n",
    "X = iris.data\n",
    "y = iris.target\n"
   ]
  },
  {
   "cell_type": "code",
   "execution_count": 3,
   "metadata": {},
   "outputs": [
    {
     "data": {
      "text/plain": [
       "array([[-1.66967809, -0.42976024, -1.21580744, -1.20149647],\n",
       "       [ 0.64255833, -0.42976024,  1.10950734,  0.8790169 ],\n",
       "       [ 1.12934495, -0.01251729,  0.44513169,  0.35888856],\n",
       "       [ 0.03407506, -0.84700318,  0.1683085 ,  0.09882438],\n",
       "       [ 2.34631149,  1.44783303,  1.71851835,  1.39914524],\n",
       "       [-1.06119482, -0.01251729, -1.1604428 , -1.20149647],\n",
       "       [-1.18289148,  0.61334713, -1.10507816, -1.20149647],\n",
       "       [-0.45271155,  1.23921155, -1.1604428 , -1.20149647],\n",
       "       [-0.81780151, -1.26424613, -0.32997324, -0.0312077 ],\n",
       "       [ 1.12934495, -0.01251729,  0.6112256 ,  0.48892064],\n",
       "       [ 0.64255833, -1.26424613,  0.77731951,  1.00904898],\n",
       "       [ 1.37273826, -0.01251729,  0.72195487,  0.48892064],\n",
       "       [-1.30458813,  0.19610419, -1.10507816, -1.20149647],\n",
       "       [ 0.27746837, -0.22113876,  0.66659024,  0.8790169 ],\n",
       "       [ 2.22461483, -0.22113876,  1.66315371,  1.26911315],\n",
       "       [-0.45271155,  1.6564545 , -1.04971353, -0.9414323 ],\n",
       "       [-1.30458813,  0.19610419, -1.27117208, -1.20149647],\n",
       "       [ 1.61613156, -0.22113876,  1.27560125,  1.26911315],\n",
       "       [-0.93949817,  0.82196861, -1.27117208, -1.07146438],\n",
       "       [ 0.03407506, -0.84700318,  0.83268415,  1.00904898],\n",
       "       [-0.81780151,  1.23921155, -1.1604428 , -0.9414323 ],\n",
       "       [ 0.88595164, -0.22113876,  0.88804879,  1.13908107],\n",
       "       [-1.06119482, -1.4728676 , -0.16387933, -0.16123979],\n",
       "       [ 0.15577172,  0.19610419,  0.66659024,  0.8790169 ],\n",
       "       [-0.57440821,  1.23921155, -1.1604428 , -1.20149647],\n",
       "       [ 0.64255833, -1.68148908,  0.44513169,  0.22885647],\n",
       "       [ 1.98122153, -0.63838171,  1.38633052,  1.00904898],\n",
       "       [ 0.03407506, -0.84700318,  0.83268415,  1.00904898],\n",
       "       [ 0.76425499, -0.01251729,  1.0541427 ,  0.8790169 ],\n",
       "       [-0.45271155,  1.6564545 , -1.27117208, -0.9414323 ],\n",
       "       [-0.69610486,  2.07369745, -1.1604428 , -1.33152856],\n",
       "       [ 0.52086168, -0.42976024,  0.38976705,  0.22885647],\n",
       "       [-0.3310149 ,  2.28231892, -1.21580744, -1.20149647],\n",
       "       [-1.06119482, -1.26424613,  0.50049632,  0.74898481],\n",
       "       [ 0.27746837, -1.89011055,  0.22367314, -0.16123979],\n",
       "       [-0.81780151,  0.82196861, -1.21580744, -1.07146438],\n",
       "       [ 0.27746837, -1.89011055,  0.77731951,  0.48892064],\n",
       "       [ 1.73782822,  1.03059008,  1.38633052,  1.7892415 ],\n",
       "       [-1.18289148, -0.01251729, -1.10507816, -1.20149647],\n",
       "       [-1.42628478,  0.19610419, -1.21580744, -1.20149647],\n",
       "       [ 0.76425499, -0.63838171,  1.10950734,  1.39914524],\n",
       "       [ 0.39916503, -0.42976024,  0.6112256 ,  0.35888856],\n",
       "       [-0.81780151,  1.44783303, -1.10507816, -1.20149647],\n",
       "       [-0.08762159, -0.63838171,  0.27903777,  0.22885647],\n",
       "       [ 0.64255833,  0.40472566,  1.33096589,  1.7892415 ],\n",
       "       [-0.3310149 ,  0.82196861, -1.27117208, -1.20149647],\n",
       "       [ 0.15577172, -0.22113876,  0.33440241,  0.48892064],\n",
       "       [-0.69610486, -0.84700318,  0.1683085 ,  0.35888856],\n",
       "       [-1.06119482, -0.01251729, -1.1604428 , -1.33152856],\n",
       "       [-0.08762159, -0.63838171,  0.50049632,  0.22885647]])"
      ]
     },
     "execution_count": 3,
     "metadata": {},
     "output_type": "execute_result"
    }
   ],
   "source": [
    "from sklearn.model_selection import train_test_split\n",
    "from sklearn.preprocessing import StandardScaler\n",
    "\n",
    "x_train , x_test , y_train , y_test = train_test_split(X,y,test_size=0.33 , random_state=102)\n",
    "\n",
    "scaler = StandardScaler()\n",
    "\n",
    "scaler.fit(x_train)\n",
    "scaler.fit_transform(x_test)"
   ]
  },
  {
   "cell_type": "code",
   "execution_count": 52,
   "metadata": {},
   "outputs": [],
   "source": [
    "from sklearn.linear_model import ElasticNet\n",
    "import Optimizer\n",
    "import importlib\n",
    "importlib.reload(Optimizer)\n",
    "\n",
    "model = ElasticNet()\n",
    "ranges = {\"alpha\" : [(0,1.0) , float] , \"l1_ratio\" : [(0,1.0) , float] , \"fit_intercept\" : [(True , False), bool] , \"tol\" : [(1e-3,1e-5) , float]}\n",
    "optimizer = Optimizer.Optimizer(x_train,y_train,model,ranges,population=30,max_generation=20)"
   ]
  },
  {
   "cell_type": "code",
   "execution_count": 53,
   "metadata": {},
   "outputs": [
    {
     "name": "stdout",
     "output_type": "stream",
     "text": [
      "Generation 0 : Best Score : 0.37147848147446716, Avg Score : 0.17414904582139157\n",
      "Generation 1 : Best Score : 0.37147848147446716, Avg Score : 0.18094837473459918\n",
      "Generation 2 : Best Score : 0.37147848147446716, Avg Score : 0.18297678131662884\n",
      "Generation 3 : Best Score : 0.37147848147446716, Avg Score : 0.1834334292533893\n",
      "Generation 4 : Best Score : 0.37147848147446716, Avg Score : 0.18458171674735274\n",
      "Generation 5 : Best Score : 0.37147848147446716, Avg Score : 0.18618832251351883\n",
      "Generation 6 : Best Score : 0.37147848147446716, Avg Score : 0.18725386035920433\n",
      "Generation 7 : Best Score : 0.37147848147446716, Avg Score : 0.18990553471242855\n",
      "Generation 8 : Best Score : 0.37147848147446716, Avg Score : 0.19135997635670837\n",
      "Generation 9 : Best Score : 0.37147848147446716, Avg Score : 0.19135997635670837\n",
      "Generation 10 : Best Score : 0.37147848147446716, Avg Score : 0.1928214978961347\n",
      "Generation 11 : Best Score : 0.37147848147446716, Avg Score : 0.1928214978961347\n",
      "Generation 12 : Best Score : 0.37147848147446716, Avg Score : 0.19287275856189437\n",
      "Generation 13 : Best Score : 0.37147848147446716, Avg Score : 0.1929064430628014\n"
     ]
    },
    {
     "name": "stderr",
     "output_type": "stream",
     "text": [
      "c:\\Users\\Akash\\AppData\\Local\\Programs\\Python\\Python310\\lib\\site-packages\\sklearn\\linear_model\\_coordinate_descent.py:648: ConvergenceWarning: Objective did not converge. You might want to increase the number of iterations, check the scale of the features or consider increasing regularisation. Duality gap: 3.032e-02, tolerance: 1.884e-02\n",
      "  model = cd_fast.enet_coordinate_descent(\n",
      "c:\\Users\\Akash\\AppData\\Local\\Programs\\Python\\Python310\\lib\\site-packages\\sklearn\\linear_model\\_coordinate_descent.py:648: ConvergenceWarning: Objective did not converge. You might want to increase the number of iterations, check the scale of the features or consider increasing regularisation. Duality gap: 8.025e-02, tolerance: 2.001e-02\n",
      "  model = cd_fast.enet_coordinate_descent(\n",
      "c:\\Users\\Akash\\AppData\\Local\\Programs\\Python\\Python310\\lib\\site-packages\\sklearn\\linear_model\\_coordinate_descent.py:648: ConvergenceWarning: Objective did not converge. You might want to increase the number of iterations, check the scale of the features or consider increasing regularisation. Duality gap: 6.510e-02, tolerance: 2.147e-02\n",
      "  model = cd_fast.enet_coordinate_descent(\n",
      "c:\\Users\\Akash\\AppData\\Local\\Programs\\Python\\Python310\\lib\\site-packages\\sklearn\\linear_model\\_coordinate_descent.py:648: ConvergenceWarning: Objective did not converge. You might want to increase the number of iterations, check the scale of the features or consider increasing regularisation. Duality gap: 2.530e-02, tolerance: 2.044e-02\n",
      "  model = cd_fast.enet_coordinate_descent(\n"
     ]
    },
    {
     "name": "stdout",
     "output_type": "stream",
     "text": [
      "Generation 14 : Best Score : 0.37147848147446716, Avg Score : 0.1929064430628014\n",
      "Generation 15 : Best Score : 0.37147848147446716, Avg Score : 0.1929064430628014\n",
      "Generation 16 : Best Score : 0.37147848147446716, Avg Score : 0.1929064430628014\n",
      "Generation 17 : Best Score : 0.37147848147446716, Avg Score : 0.1929064430628014\n"
     ]
    },
    {
     "name": "stderr",
     "output_type": "stream",
     "text": [
      "c:\\Users\\Akash\\AppData\\Local\\Programs\\Python\\Python310\\lib\\site-packages\\sklearn\\linear_model\\_coordinate_descent.py:648: ConvergenceWarning: Objective did not converge. You might want to increase the number of iterations, check the scale of the features or consider increasing regularisation. Duality gap: 8.025e-02, tolerance: 3.638e-02\n",
      "  model = cd_fast.enet_coordinate_descent(\n",
      "c:\\Users\\Akash\\AppData\\Local\\Programs\\Python\\Python310\\lib\\site-packages\\sklearn\\linear_model\\_coordinate_descent.py:648: ConvergenceWarning: Objective did not converge. You might want to increase the number of iterations, check the scale of the features or consider increasing regularisation. Duality gap: 6.510e-02, tolerance: 3.903e-02\n",
      "  model = cd_fast.enet_coordinate_descent(\n"
     ]
    },
    {
     "name": "stdout",
     "output_type": "stream",
     "text": [
      "Generation 18 : Best Score : 0.37147848147446716, Avg Score : 0.1945029373836575\n",
      "Generation 19 : Best Score : 0.37147848147446716, Avg Score : 0.1945029373836575\n"
     ]
    }
   ],
   "source": [
    "optimizer.search()"
   ]
  },
  {
   "cell_type": "code",
   "execution_count": 54,
   "metadata": {},
   "outputs": [
    {
     "name": "stdout",
     "output_type": "stream",
     "text": [
      "{'alpha': [0.46466236926177173, <class 'float'>], 'l1_ratio': [0.23188918515977763, <class 'float'>], 'fit_intercept': [False, <class 'bool'>], 'tol': [0.0003496098099901604, <class 'float'>]}\n"
     ]
    }
   ],
   "source": [
    "import random\n",
    "\n",
    "ranges = {\"alpha\" : [(0,1.0) , float] , \"l1_ratio\" : [(0,1.0) , float] , \"fit_intercept\" : [(True , False), bool] , \"tol\" : [(1e-3,1e-5) , float]}\n",
    "\n",
    "for key,value in ranges.items():\n",
    "    indis = []\n",
    "\n",
    "    for _ in range(10):\n",
    "        indi = {}\n",
    "        for key,value in ranges.items():\n",
    "            value_type = ranges[key][1]\n",
    "            low, high = ranges[key][0][0] , ranges[key][0][1]\n",
    "            if value_type == bool:\n",
    "                indi[key] = [random.choice((True,False)),value_type]\n",
    "            elif value_type == str:\n",
    "                indi[key] = [random.choice(ranges[key][0]),value_type]\n",
    "            elif value[1] == int:\n",
    "                indi[key] = [random.randint(low,high),value_type]\n",
    "            else:\n",
    "                indi[key] = [random.uniform(low,high),value_type]\n",
    "        indis.append(indi)\n",
    "\n",
    "print(indi)"
   ]
  },
  {
   "cell_type": "code",
   "execution_count": null,
   "metadata": {},
   "outputs": [],
   "source": []
  },
  {
   "cell_type": "code",
   "execution_count": null,
   "metadata": {},
   "outputs": [],
   "source": []
  }
 ],
 "metadata": {
  "kernelspec": {
   "display_name": "Python 3",
   "language": "python",
   "name": "python3"
  },
  "language_info": {
   "codemirror_mode": {
    "name": "ipython",
    "version": 3
   },
   "file_extension": ".py",
   "mimetype": "text/x-python",
   "name": "python",
   "nbconvert_exporter": "python",
   "pygments_lexer": "ipython3",
   "version": "3.10.2"
  },
  "orig_nbformat": 4
 },
 "nbformat": 4,
 "nbformat_minor": 2
}
