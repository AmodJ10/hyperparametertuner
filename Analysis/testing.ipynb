{
 "cells": [
  {
   "cell_type": "code",
   "execution_count": 1,
   "metadata": {},
   "outputs": [],
   "source": [
    "from sklearn.datasets import load_iris\n"
   ]
  },
  {
   "cell_type": "code",
   "execution_count": 2,
   "metadata": {},
   "outputs": [],
   "source": [
    "iris = load_iris()\n",
    "X = iris.data\n",
    "y = iris.target\n"
   ]
  },
  {
   "cell_type": "code",
   "execution_count": 3,
   "metadata": {},
   "outputs": [
    {
     "data": {
      "text/plain": [
       "array([[-1.66967809, -0.42976024, -1.21580744, -1.20149647],\n",
       "       [ 0.64255833, -0.42976024,  1.10950734,  0.8790169 ],\n",
       "       [ 1.12934495, -0.01251729,  0.44513169,  0.35888856],\n",
       "       [ 0.03407506, -0.84700318,  0.1683085 ,  0.09882438],\n",
       "       [ 2.34631149,  1.44783303,  1.71851835,  1.39914524],\n",
       "       [-1.06119482, -0.01251729, -1.1604428 , -1.20149647],\n",
       "       [-1.18289148,  0.61334713, -1.10507816, -1.20149647],\n",
       "       [-0.45271155,  1.23921155, -1.1604428 , -1.20149647],\n",
       "       [-0.81780151, -1.26424613, -0.32997324, -0.0312077 ],\n",
       "       [ 1.12934495, -0.01251729,  0.6112256 ,  0.48892064],\n",
       "       [ 0.64255833, -1.26424613,  0.77731951,  1.00904898],\n",
       "       [ 1.37273826, -0.01251729,  0.72195487,  0.48892064],\n",
       "       [-1.30458813,  0.19610419, -1.10507816, -1.20149647],\n",
       "       [ 0.27746837, -0.22113876,  0.66659024,  0.8790169 ],\n",
       "       [ 2.22461483, -0.22113876,  1.66315371,  1.26911315],\n",
       "       [-0.45271155,  1.6564545 , -1.04971353, -0.9414323 ],\n",
       "       [-1.30458813,  0.19610419, -1.27117208, -1.20149647],\n",
       "       [ 1.61613156, -0.22113876,  1.27560125,  1.26911315],\n",
       "       [-0.93949817,  0.82196861, -1.27117208, -1.07146438],\n",
       "       [ 0.03407506, -0.84700318,  0.83268415,  1.00904898],\n",
       "       [-0.81780151,  1.23921155, -1.1604428 , -0.9414323 ],\n",
       "       [ 0.88595164, -0.22113876,  0.88804879,  1.13908107],\n",
       "       [-1.06119482, -1.4728676 , -0.16387933, -0.16123979],\n",
       "       [ 0.15577172,  0.19610419,  0.66659024,  0.8790169 ],\n",
       "       [-0.57440821,  1.23921155, -1.1604428 , -1.20149647],\n",
       "       [ 0.64255833, -1.68148908,  0.44513169,  0.22885647],\n",
       "       [ 1.98122153, -0.63838171,  1.38633052,  1.00904898],\n",
       "       [ 0.03407506, -0.84700318,  0.83268415,  1.00904898],\n",
       "       [ 0.76425499, -0.01251729,  1.0541427 ,  0.8790169 ],\n",
       "       [-0.45271155,  1.6564545 , -1.27117208, -0.9414323 ],\n",
       "       [-0.69610486,  2.07369745, -1.1604428 , -1.33152856],\n",
       "       [ 0.52086168, -0.42976024,  0.38976705,  0.22885647],\n",
       "       [-0.3310149 ,  2.28231892, -1.21580744, -1.20149647],\n",
       "       [-1.06119482, -1.26424613,  0.50049632,  0.74898481],\n",
       "       [ 0.27746837, -1.89011055,  0.22367314, -0.16123979],\n",
       "       [-0.81780151,  0.82196861, -1.21580744, -1.07146438],\n",
       "       [ 0.27746837, -1.89011055,  0.77731951,  0.48892064],\n",
       "       [ 1.73782822,  1.03059008,  1.38633052,  1.7892415 ],\n",
       "       [-1.18289148, -0.01251729, -1.10507816, -1.20149647],\n",
       "       [-1.42628478,  0.19610419, -1.21580744, -1.20149647],\n",
       "       [ 0.76425499, -0.63838171,  1.10950734,  1.39914524],\n",
       "       [ 0.39916503, -0.42976024,  0.6112256 ,  0.35888856],\n",
       "       [-0.81780151,  1.44783303, -1.10507816, -1.20149647],\n",
       "       [-0.08762159, -0.63838171,  0.27903777,  0.22885647],\n",
       "       [ 0.64255833,  0.40472566,  1.33096589,  1.7892415 ],\n",
       "       [-0.3310149 ,  0.82196861, -1.27117208, -1.20149647],\n",
       "       [ 0.15577172, -0.22113876,  0.33440241,  0.48892064],\n",
       "       [-0.69610486, -0.84700318,  0.1683085 ,  0.35888856],\n",
       "       [-1.06119482, -0.01251729, -1.1604428 , -1.33152856],\n",
       "       [-0.08762159, -0.63838171,  0.50049632,  0.22885647]])"
      ]
     },
     "execution_count": 3,
     "metadata": {},
     "output_type": "execute_result"
    }
   ],
   "source": [
    "from sklearn.model_selection import train_test_split\n",
    "from sklearn.preprocessing import StandardScaler\n",
    "\n",
    "x_train , x_test , y_train , y_test = train_test_split(X,y,test_size=0.33 , random_state=102)\n",
    "\n",
    "scaler = StandardScaler()\n",
    "\n",
    "scaler.fit(x_train)\n",
    "scaler.fit_transform(x_test)"
   ]
  },
  {
   "cell_type": "code",
   "execution_count": 45,
   "metadata": {},
   "outputs": [],
   "source": [
    "from sklearn.linear_model import ElasticNetCV\n",
    "import SklearnTuner\n",
    "#NOTE : AMOD dont remove this\n",
    "import importlib\n",
    "importlib.reload(SklearnTuner)\n",
    "\n",
    "\n",
    "model = ElasticNetCV()\n",
    "\n",
    "param_distributions = {\"l1_ratio\" : [(0,1.0) , float] , \"selection\" : [(\"cyclic\" , \"random\") , str] , \"fit_intercept\" : [(True , False), bool] , \"tol\" : [(1e-3,1e-5) , float] , \"eps\" : [(1e-2,1e-4) , float]}\n",
    "\n",
    "SklearnTuner = SklearnTuner.SklearnTuner(x_train,y_train,model,model_type=\"regression\",parllel_computing=True,param_distributions = param_distributions)"
   ]
  },
  {
   "cell_type": "code",
   "execution_count": 46,
   "metadata": {},
   "outputs": [
    {
     "name": "stdout",
     "output_type": "stream",
     "text": [
      "Generation 0 : Best Score : -0.04934957610060898, Avg Score : -0.050599652105426586\n",
      "Generation 1 : Best Score : -0.04934957610060898, Avg Score : -0.050030146555147335\n",
      "Generation 2 : Best Score : -0.04934957610060898, Avg Score : -0.0497522545376815\n",
      "Generation 3 : Best Score : -0.04934957610060898, Avg Score : -0.04964323073645669\n",
      "Generation 4 : Best Score : -0.04933080422947962, Avg Score : -0.04958784887514349\n",
      "Generation 5 : Best Score : -0.04929246769780597, Avg Score : -0.04945122046208861\n",
      "Generation 6 : Best Score : -0.04929246769780597, Avg Score : -0.04942888771203898\n",
      "Generation 7 : Best Score : -0.04929246769780597, Avg Score : -0.04938878197218301\n",
      "Generation 8 : Best Score : -0.04898197558740887, Avg Score : -0.04930367012719357\n",
      "Generation 9 : Best Score : -0.04898197558740887, Avg Score : -0.04923949843612974\n"
     ]
    }
   ],
   "source": [
    "SklearnTuner.search()"
   ]
  },
  {
   "cell_type": "markdown",
   "metadata": {},
   "source": [
    "## Model with hyperparameters"
   ]
  },
  {
   "cell_type": "code",
   "execution_count": 40,
   "metadata": {},
   "outputs": [
    {
     "data": {
      "text/html": [
       "<style>#sk-container-id-7 {color: black;background-color: white;}#sk-container-id-7 pre{padding: 0;}#sk-container-id-7 div.sk-toggleable {background-color: white;}#sk-container-id-7 label.sk-toggleable__label {cursor: pointer;display: block;width: 100%;margin-bottom: 0;padding: 0.3em;box-sizing: border-box;text-align: center;}#sk-container-id-7 label.sk-toggleable__label-arrow:before {content: \"▸\";float: left;margin-right: 0.25em;color: #696969;}#sk-container-id-7 label.sk-toggleable__label-arrow:hover:before {color: black;}#sk-container-id-7 div.sk-estimator:hover label.sk-toggleable__label-arrow:before {color: black;}#sk-container-id-7 div.sk-toggleable__content {max-height: 0;max-width: 0;overflow: hidden;text-align: left;background-color: #f0f8ff;}#sk-container-id-7 div.sk-toggleable__content pre {margin: 0.2em;color: black;border-radius: 0.25em;background-color: #f0f8ff;}#sk-container-id-7 input.sk-toggleable__control:checked~div.sk-toggleable__content {max-height: 200px;max-width: 100%;overflow: auto;}#sk-container-id-7 input.sk-toggleable__control:checked~label.sk-toggleable__label-arrow:before {content: \"▾\";}#sk-container-id-7 div.sk-estimator input.sk-toggleable__control:checked~label.sk-toggleable__label {background-color: #d4ebff;}#sk-container-id-7 div.sk-label input.sk-toggleable__control:checked~label.sk-toggleable__label {background-color: #d4ebff;}#sk-container-id-7 input.sk-hidden--visually {border: 0;clip: rect(1px 1px 1px 1px);clip: rect(1px, 1px, 1px, 1px);height: 1px;margin: -1px;overflow: hidden;padding: 0;position: absolute;width: 1px;}#sk-container-id-7 div.sk-estimator {font-family: monospace;background-color: #f0f8ff;border: 1px dotted black;border-radius: 0.25em;box-sizing: border-box;margin-bottom: 0.5em;}#sk-container-id-7 div.sk-estimator:hover {background-color: #d4ebff;}#sk-container-id-7 div.sk-parallel-item::after {content: \"\";width: 100%;border-bottom: 1px solid gray;flex-grow: 1;}#sk-container-id-7 div.sk-label:hover label.sk-toggleable__label {background-color: #d4ebff;}#sk-container-id-7 div.sk-serial::before {content: \"\";position: absolute;border-left: 1px solid gray;box-sizing: border-box;top: 0;bottom: 0;left: 50%;z-index: 0;}#sk-container-id-7 div.sk-serial {display: flex;flex-direction: column;align-items: center;background-color: white;padding-right: 0.2em;padding-left: 0.2em;position: relative;}#sk-container-id-7 div.sk-item {position: relative;z-index: 1;}#sk-container-id-7 div.sk-parallel {display: flex;align-items: stretch;justify-content: center;background-color: white;position: relative;}#sk-container-id-7 div.sk-item::before, #sk-container-id-7 div.sk-parallel-item::before {content: \"\";position: absolute;border-left: 1px solid gray;box-sizing: border-box;top: 0;bottom: 0;left: 50%;z-index: -1;}#sk-container-id-7 div.sk-parallel-item {display: flex;flex-direction: column;z-index: 1;position: relative;background-color: white;}#sk-container-id-7 div.sk-parallel-item:first-child::after {align-self: flex-end;width: 50%;}#sk-container-id-7 div.sk-parallel-item:last-child::after {align-self: flex-start;width: 50%;}#sk-container-id-7 div.sk-parallel-item:only-child::after {width: 0;}#sk-container-id-7 div.sk-dashed-wrapped {border: 1px dashed gray;margin: 0 0.4em 0.5em 0.4em;box-sizing: border-box;padding-bottom: 0.4em;background-color: white;}#sk-container-id-7 div.sk-label label {font-family: monospace;font-weight: bold;display: inline-block;line-height: 1.2em;}#sk-container-id-7 div.sk-label-container {text-align: center;}#sk-container-id-7 div.sk-container {/* jupyter's `normalize.less` sets `[hidden] { display: none; }` but bootstrap.min.css set `[hidden] { display: none !important; }` so we also need the `!important` here to be able to override the default hidden behavior on the sphinx rendered scikit-learn.org. See: https://github.com/scikit-learn/scikit-learn/issues/21755 */display: inline-block !important;position: relative;}#sk-container-id-7 div.sk-text-repr-fallback {display: none;}</style><div id=\"sk-container-id-7\" class=\"sk-top-container\"><div class=\"sk-text-repr-fallback\"><pre>ElasticNetCV(eps=0.000725786175949682, fit_intercept=False,\n",
       "             l1_ratio=0.562020202363748, selection=&#x27;random&#x27;,\n",
       "             tol=0.00044910453277941745)</pre><b>In a Jupyter environment, please rerun this cell to show the HTML representation or trust the notebook. <br />On GitHub, the HTML representation is unable to render, please try loading this page with nbviewer.org.</b></div><div class=\"sk-container\" hidden><div class=\"sk-item\"><div class=\"sk-estimator sk-toggleable\"><input class=\"sk-toggleable__control sk-hidden--visually\" id=\"sk-estimator-id-7\" type=\"checkbox\" checked><label for=\"sk-estimator-id-7\" class=\"sk-toggleable__label sk-toggleable__label-arrow\">ElasticNetCV</label><div class=\"sk-toggleable__content\"><pre>ElasticNetCV(eps=0.000725786175949682, fit_intercept=False,\n",
       "             l1_ratio=0.562020202363748, selection=&#x27;random&#x27;,\n",
       "             tol=0.00044910453277941745)</pre></div></div></div></div></div>"
      ],
      "text/plain": [
       "ElasticNetCV(eps=0.000725786175949682, fit_intercept=False,\n",
       "             l1_ratio=0.562020202363748, selection='random',\n",
       "             tol=0.00044910453277941745)"
      ]
     },
     "execution_count": 40,
     "metadata": {},
     "output_type": "execute_result"
    }
   ],
   "source": [
    "model = ElasticNetCV(**SklearnTuner.get_best_params())\n",
    "model.fit(x_train,y_train)"
   ]
  },
  {
   "cell_type": "code",
   "execution_count": 41,
   "metadata": {},
   "outputs": [
    {
     "data": {
      "text/plain": [
       "0.9319098471797913"
      ]
     },
     "execution_count": 41,
     "metadata": {},
     "output_type": "execute_result"
    }
   ],
   "source": [
    "model.score(x_test,y_test)"
   ]
  },
  {
   "cell_type": "markdown",
   "metadata": {},
   "source": [
    "## Model without Hyperparameters\n"
   ]
  },
  {
   "cell_type": "code",
   "execution_count": 42,
   "metadata": {},
   "outputs": [
    {
     "data": {
      "text/html": [
       "<style>#sk-container-id-8 {color: black;background-color: white;}#sk-container-id-8 pre{padding: 0;}#sk-container-id-8 div.sk-toggleable {background-color: white;}#sk-container-id-8 label.sk-toggleable__label {cursor: pointer;display: block;width: 100%;margin-bottom: 0;padding: 0.3em;box-sizing: border-box;text-align: center;}#sk-container-id-8 label.sk-toggleable__label-arrow:before {content: \"▸\";float: left;margin-right: 0.25em;color: #696969;}#sk-container-id-8 label.sk-toggleable__label-arrow:hover:before {color: black;}#sk-container-id-8 div.sk-estimator:hover label.sk-toggleable__label-arrow:before {color: black;}#sk-container-id-8 div.sk-toggleable__content {max-height: 0;max-width: 0;overflow: hidden;text-align: left;background-color: #f0f8ff;}#sk-container-id-8 div.sk-toggleable__content pre {margin: 0.2em;color: black;border-radius: 0.25em;background-color: #f0f8ff;}#sk-container-id-8 input.sk-toggleable__control:checked~div.sk-toggleable__content {max-height: 200px;max-width: 100%;overflow: auto;}#sk-container-id-8 input.sk-toggleable__control:checked~label.sk-toggleable__label-arrow:before {content: \"▾\";}#sk-container-id-8 div.sk-estimator input.sk-toggleable__control:checked~label.sk-toggleable__label {background-color: #d4ebff;}#sk-container-id-8 div.sk-label input.sk-toggleable__control:checked~label.sk-toggleable__label {background-color: #d4ebff;}#sk-container-id-8 input.sk-hidden--visually {border: 0;clip: rect(1px 1px 1px 1px);clip: rect(1px, 1px, 1px, 1px);height: 1px;margin: -1px;overflow: hidden;padding: 0;position: absolute;width: 1px;}#sk-container-id-8 div.sk-estimator {font-family: monospace;background-color: #f0f8ff;border: 1px dotted black;border-radius: 0.25em;box-sizing: border-box;margin-bottom: 0.5em;}#sk-container-id-8 div.sk-estimator:hover {background-color: #d4ebff;}#sk-container-id-8 div.sk-parallel-item::after {content: \"\";width: 100%;border-bottom: 1px solid gray;flex-grow: 1;}#sk-container-id-8 div.sk-label:hover label.sk-toggleable__label {background-color: #d4ebff;}#sk-container-id-8 div.sk-serial::before {content: \"\";position: absolute;border-left: 1px solid gray;box-sizing: border-box;top: 0;bottom: 0;left: 50%;z-index: 0;}#sk-container-id-8 div.sk-serial {display: flex;flex-direction: column;align-items: center;background-color: white;padding-right: 0.2em;padding-left: 0.2em;position: relative;}#sk-container-id-8 div.sk-item {position: relative;z-index: 1;}#sk-container-id-8 div.sk-parallel {display: flex;align-items: stretch;justify-content: center;background-color: white;position: relative;}#sk-container-id-8 div.sk-item::before, #sk-container-id-8 div.sk-parallel-item::before {content: \"\";position: absolute;border-left: 1px solid gray;box-sizing: border-box;top: 0;bottom: 0;left: 50%;z-index: -1;}#sk-container-id-8 div.sk-parallel-item {display: flex;flex-direction: column;z-index: 1;position: relative;background-color: white;}#sk-container-id-8 div.sk-parallel-item:first-child::after {align-self: flex-end;width: 50%;}#sk-container-id-8 div.sk-parallel-item:last-child::after {align-self: flex-start;width: 50%;}#sk-container-id-8 div.sk-parallel-item:only-child::after {width: 0;}#sk-container-id-8 div.sk-dashed-wrapped {border: 1px dashed gray;margin: 0 0.4em 0.5em 0.4em;box-sizing: border-box;padding-bottom: 0.4em;background-color: white;}#sk-container-id-8 div.sk-label label {font-family: monospace;font-weight: bold;display: inline-block;line-height: 1.2em;}#sk-container-id-8 div.sk-label-container {text-align: center;}#sk-container-id-8 div.sk-container {/* jupyter's `normalize.less` sets `[hidden] { display: none; }` but bootstrap.min.css set `[hidden] { display: none !important; }` so we also need the `!important` here to be able to override the default hidden behavior on the sphinx rendered scikit-learn.org. See: https://github.com/scikit-learn/scikit-learn/issues/21755 */display: inline-block !important;position: relative;}#sk-container-id-8 div.sk-text-repr-fallback {display: none;}</style><div id=\"sk-container-id-8\" class=\"sk-top-container\"><div class=\"sk-text-repr-fallback\"><pre>ElasticNetCV()</pre><b>In a Jupyter environment, please rerun this cell to show the HTML representation or trust the notebook. <br />On GitHub, the HTML representation is unable to render, please try loading this page with nbviewer.org.</b></div><div class=\"sk-container\" hidden><div class=\"sk-item\"><div class=\"sk-estimator sk-toggleable\"><input class=\"sk-toggleable__control sk-hidden--visually\" id=\"sk-estimator-id-8\" type=\"checkbox\" checked><label for=\"sk-estimator-id-8\" class=\"sk-toggleable__label sk-toggleable__label-arrow\">ElasticNetCV</label><div class=\"sk-toggleable__content\"><pre>ElasticNetCV()</pre></div></div></div></div></div>"
      ],
      "text/plain": [
       "ElasticNetCV()"
      ]
     },
     "execution_count": 42,
     "metadata": {},
     "output_type": "execute_result"
    }
   ],
   "source": [
    "model = ElasticNetCV()\n",
    "model.fit(x_train,y_train)"
   ]
  },
  {
   "cell_type": "code",
   "execution_count": 43,
   "metadata": {},
   "outputs": [
    {
     "data": {
      "text/plain": [
       "0.9246899020535607"
      ]
     },
     "execution_count": 43,
     "metadata": {},
     "output_type": "execute_result"
    }
   ],
   "source": [
    "model.score(x_test,y_test)"
   ]
  },
  {
   "cell_type": "code",
   "execution_count": 44,
   "metadata": {},
   "outputs": [
    {
     "name": "stdout",
     "output_type": "stream",
     "text": [
      "{'l1_ratio': [0.11723050198922247, <class 'float'>], 'selection': ['cyclic', <class 'str'>], 'fit_intercept': [True, <class 'bool'>], 'tol': [0.0004963717743681039, <class 'float'>], 'eps': [0.0028260392358916185, <class 'float'>]}\n"
     ]
    }
   ],
   "source": [
    "import random\n",
    "\n",
    "param_distributions = {\"l1_ratio\" : [(0,1.0) , float] , \"selection\" : [(\"cyclic\" , \"random\") , str] , \"fit_intercept\" : [(True , False), bool] , \"tol\" : [(1e-3,1e-5) , float] , \"eps\" : [(1e-2,1e-4) , float]}\n",
    "\n",
    "for key,value in param_distributions.items():\n",
    "    indis = []\n",
    "\n",
    "    for _ in range(10):\n",
    "        indi = {}\n",
    "        for key,value in param_distributions.items():\n",
    "            value_type = param_distributions[key][1]\n",
    "            low, high = param_distributions[key][0][0] , param_distributions[key][0][1]\n",
    "            if value_type == bool:\n",
    "                indi[key] = [random.choice((True,False)),value_type]\n",
    "            elif value_type == str:\n",
    "                indi[key] = [random.choice(param_distributions[key][0]),value_type]\n",
    "            elif value[1] == int:\n",
    "                indi[key] = [random.randint(low,high),value_type]\n",
    "            else:\n",
    "                indi[key] = [random.uniform(low,high),value_type]\n",
    "        indis.append(indi)\n",
    "\n",
    "def tournament():\n",
    "        tournament_indis = random.sample(range(len(indis)),2)\n",
    "        tournament_indis.sort()\n",
    "        selected_indi_1 = indis[tournament_indis[-1]]\n",
    "        selected_indi_2 = indis[tournament_indis[-2]]\n",
    "        return selected_indi_1,selected_indi_2\n",
    "\n",
    "a,b = tournament()\n",
    "\n",
    "print(a)"
   ]
  },
  {
   "cell_type": "code",
   "execution_count": null,
   "metadata": {},
   "outputs": [],
   "source": []
  },
  {
   "cell_type": "code",
   "execution_count": null,
   "metadata": {},
   "outputs": [],
   "source": []
  }
 ],
 "metadata": {
  "kernelspec": {
   "display_name": "Python 3",
   "language": "python",
   "name": "python3"
  },
  "language_info": {
   "codemirror_mode": {
    "name": "ipython",
    "version": 3
   },
   "file_extension": ".py",
   "mimetype": "text/x-python",
   "name": "python",
   "nbconvert_exporter": "python",
   "pygments_lexer": "ipython3",
   "version": "3.10.2"
  },
  "orig_nbformat": 4
 },
 "nbformat": 4,
 "nbformat_minor": 2
}
